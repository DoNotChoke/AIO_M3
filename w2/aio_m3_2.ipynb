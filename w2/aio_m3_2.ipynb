{
 "cells": [
  {
   "cell_type": "markdown",
   "metadata": {},
   "source": [
    "# Decision Tree"
   ]
  },
  {
   "cell_type": "code",
   "execution_count": 1,
   "metadata": {},
   "outputs": [],
   "source": [
    "# 1a\n",
    "import numpy as np\n",
    "import pandas as pd\n",
    "import matplotlib.pyplot as plt"
   ]
  },
  {
   "cell_type": "code",
   "execution_count": 2,
   "metadata": {},
   "outputs": [],
   "source": [
    "data= {\n",
    "    'Likes English':[0,1,1,0,0],\n",
    "    'Likes AI':[0,1,0,1,0],\n",
    "    'Raise Salary':[0,0,1,1,0]\n",
    "}\n",
    "data= pd.DataFrame(data, columns= data.keys())"
   ]
  },
  {
   "cell_type": "code",
   "execution_count": 3,
   "metadata": {},
   "outputs": [
    {
     "name": "stdout",
     "output_type": "stream",
     "text": [
      "Likes AI\n",
      "0    3\n",
      "1    2\n",
      "Name: count, dtype: int64\n"
     ]
    }
   ],
   "source": [
    "data\n",
    "print(data['Likes AI'].value_counts())"
   ]
  },
  {
   "cell_type": "code",
   "execution_count": 4,
   "metadata": {},
   "outputs": [],
   "source": [
    "## cau 2\n",
    "def gini_impurity(column):\n",
    "    value_count= column.value_counts()\n",
    "    n= value_count.sum()\n",
    "    p_sum= 0\n",
    "    for key in value_count.keys():\n",
    "        p_sum = p_sum + (value_count[key]/n)* (value_count[key]/n)\n",
    "    gini= 1- p_sum\n",
    "    return gini\n"
   ]
  },
  {
   "cell_type": "code",
   "execution_count": 5,
   "metadata": {},
   "outputs": [
    {
     "data": {
      "text/plain": [
       "0.48"
      ]
     },
     "execution_count": 5,
     "metadata": {},
     "output_type": "execute_result"
    }
   ],
   "source": [
    "gini_impurity(data['Raise Salary'])\n",
    "#2c"
   ]
  },
  {
   "cell_type": "code",
   "execution_count": 6,
   "metadata": {},
   "outputs": [
    {
     "data": {
      "text/plain": [
       "0.4666666666666667"
      ]
     },
     "execution_count": 6,
     "metadata": {},
     "output_type": "execute_result"
    }
   ],
   "source": [
    "# Cau 3\n",
    "class_name='Raise Salary'\n",
    "def gini_for_each_condition(data,column):\n",
    "    value_count= data[column].value_counts()\n",
    "    gini= 0\n",
    "    for key in value_count.keys():\n",
    "        df_k= data[class_name][data[column]== key]\n",
    "        n_k= value_count[key]\n",
    "        n= data.shape[0]\n",
    "        gini= gini + ((n_k/n) * gini_impurity(df_k))\n",
    "    return gini\n",
    "\n",
    "gini_for_each_condition(data,'Likes English')\n",
    "#3d"
   ]
  },
  {
   "cell_type": "code",
   "execution_count": 7,
   "metadata": {},
   "outputs": [],
   "source": [
    "data= {'Age':[23,25,27,29,29],\n",
    "       \"Likes English\": [0,1,1,0,0],\n",
    "       'Likes AI':[0,1,0,1,0],\n",
    "       'Raise Salary':[0,0,1,1,0]}\n",
    "data= pd.DataFrame(data, columns= list(data.keys()))"
   ]
  },
  {
   "cell_type": "code",
   "execution_count": 8,
   "metadata": {},
   "outputs": [
    {
     "data": {
      "text/html": [
       "<div>\n",
       "<style scoped>\n",
       "    .dataframe tbody tr th:only-of-type {\n",
       "        vertical-align: middle;\n",
       "    }\n",
       "\n",
       "    .dataframe tbody tr th {\n",
       "        vertical-align: top;\n",
       "    }\n",
       "\n",
       "    .dataframe thead th {\n",
       "        text-align: right;\n",
       "    }\n",
       "</style>\n",
       "<table border=\"1\" class=\"dataframe\">\n",
       "  <thead>\n",
       "    <tr style=\"text-align: right;\">\n",
       "      <th></th>\n",
       "      <th>Age</th>\n",
       "      <th>Likes English</th>\n",
       "      <th>Likes AI</th>\n",
       "      <th>Raise Salary</th>\n",
       "    </tr>\n",
       "  </thead>\n",
       "  <tbody>\n",
       "    <tr>\n",
       "      <th>0</th>\n",
       "      <td>23</td>\n",
       "      <td>0</td>\n",
       "      <td>0</td>\n",
       "      <td>0</td>\n",
       "    </tr>\n",
       "    <tr>\n",
       "      <th>1</th>\n",
       "      <td>25</td>\n",
       "      <td>1</td>\n",
       "      <td>1</td>\n",
       "      <td>0</td>\n",
       "    </tr>\n",
       "    <tr>\n",
       "      <th>2</th>\n",
       "      <td>27</td>\n",
       "      <td>1</td>\n",
       "      <td>0</td>\n",
       "      <td>1</td>\n",
       "    </tr>\n",
       "    <tr>\n",
       "      <th>3</th>\n",
       "      <td>29</td>\n",
       "      <td>0</td>\n",
       "      <td>1</td>\n",
       "      <td>1</td>\n",
       "    </tr>\n",
       "    <tr>\n",
       "      <th>4</th>\n",
       "      <td>29</td>\n",
       "      <td>0</td>\n",
       "      <td>0</td>\n",
       "      <td>0</td>\n",
       "    </tr>\n",
       "  </tbody>\n",
       "</table>\n",
       "</div>"
      ],
      "text/plain": [
       "   Age  Likes English  Likes AI  Raise Salary\n",
       "0   23              0         0             0\n",
       "1   25              1         1             0\n",
       "2   27              1         0             1\n",
       "3   29              0         1             1\n",
       "4   29              0         0             0"
      ]
     },
     "execution_count": 8,
     "metadata": {},
     "output_type": "execute_result"
    }
   ],
   "source": [
    "data"
   ]
  },
  {
   "cell_type": "code",
   "execution_count": 9,
   "metadata": {},
   "outputs": [
    {
     "data": {
      "text/plain": [
       "0.26666666666666666"
      ]
     },
     "execution_count": 9,
     "metadata": {},
     "output_type": "execute_result"
    }
   ],
   "source": [
    "def gini_real_number(column, num):\n",
    "    temp= data.copy()\n",
    "    temp[column]= temp[column] <= num\n",
    "    ans= gini_for_each_condition(temp,column)\n",
    "    return ans\n",
    "\n",
    "gini_real_number('Age', 26)\n",
    "# 4c"
   ]
  },
  {
   "cell_type": "code",
   "execution_count": 10,
   "metadata": {},
   "outputs": [
    {
     "data": {
      "text/plain": [
       "0.9709505944546687"
      ]
     },
     "execution_count": 10,
     "metadata": {},
     "output_type": "execute_result"
    }
   ],
   "source": [
    "import math\n",
    "def entropy(column):\n",
    "    value_count= column.value_counts()\n",
    "    entropy= 0\n",
    "    n= value_count.sum()\n",
    "    for key in value_count.keys():\n",
    "        k= value_count[key]\n",
    "        entropy= entropy+ ((k/n) * math.log2(n/k))\n",
    "    return entropy\n",
    "\n",
    "entropy(data['Raise Salary'])\n",
    "#5b"
   ]
  },
  {
   "cell_type": "code",
   "execution_count": 11,
   "metadata": {},
   "outputs": [
    {
     "data": {
      "text/plain": [
       "0.019973094021975113"
      ]
     },
     "execution_count": 11,
     "metadata": {},
     "output_type": "execute_result"
    }
   ],
   "source": [
    "def imformation_gain(column):\n",
    "    value_count= column.value_counts()\n",
    "    entroypy_child=0\n",
    "    n= data.shape[0]\n",
    "    for key in value_count.keys():\n",
    "        temp= data['Raise Salary'][column== key]\n",
    "        k= value_count[key]\n",
    "        entroypy_child= entroypy_child + ((k/n) * entropy(temp))\n",
    "    return entropy(column)- entroypy_child\n",
    "imformation_gain(data['Likes English'])"
   ]
  },
  {
   "cell_type": "code",
   "execution_count": 13,
   "metadata": {},
   "outputs": [],
   "source": [
    "from sklearn import datasets\n",
    "from sklearn.model_selection import train_test_split\n",
    "from sklearn.metrics import accuracy_score\n",
    "from sklearn.tree import DecisionTreeClassifier"
   ]
  },
  {
   "cell_type": "code",
   "execution_count": 44,
   "metadata": {},
   "outputs": [
    {
     "data": {
      "text/plain": [
       "1.0"
      ]
     },
     "execution_count": 44,
     "metadata": {},
     "output_type": "execute_result"
    }
   ],
   "source": [
    "iris_X, iris_y= datasets.load_iris(return_X_y= True)\n",
    "X_train, X_test, y_train, y_test =train_test_split(iris_X\n",
    "                                                  ,iris_y,\n",
    "                                                  test_size= 0.2,\n",
    "                                                  random_state= 42)\n",
    "dt_classifier= DecisionTreeClassifier(criterion='entropy',max_depth=4)\n",
    "dt_classifier.fit(X_train, y_train)\n",
    "y_pred= dt_classifier.predict(X_test)\n",
    "accuracy_score(y_test, y_pred)\n",
    "#7a 8a"
   ]
  },
  {
   "cell_type": "code",
   "execution_count": 45,
   "metadata": {},
   "outputs": [
    {
     "data": {
      "text/plain": [
       "[Text(0.3181818181818182, 0.9, 'Petal_Width <= 0.8\\nentropy = 1.585\\nsamples = 120\\nvalue = [40, 41, 39]'),\n",
       " Text(0.22727272727272727, 0.7, 'entropy = 0.0\\nsamples = 40\\nvalue = [40, 0, 0]'),\n",
       " Text(0.2727272727272727, 0.8, 'True  '),\n",
       " Text(0.4090909090909091, 0.7, 'Petal_Length <= 4.75\\nentropy = 1.0\\nsamples = 80\\nvalue = [0, 41, 39]'),\n",
       " Text(0.36363636363636365, 0.8, '  False'),\n",
       " Text(0.18181818181818182, 0.5, 'Petal_Width <= 1.65\\nentropy = 0.179\\nsamples = 37\\nvalue = [0, 36, 1]'),\n",
       " Text(0.09090909090909091, 0.3, 'entropy = 0.0\\nsamples = 36\\nvalue = [0, 36, 0]'),\n",
       " Text(0.2727272727272727, 0.3, 'entropy = 0.0\\nsamples = 1\\nvalue = [0, 0, 1]'),\n",
       " Text(0.6363636363636364, 0.5, 'Petal_Width <= 1.75\\nentropy = 0.519\\nsamples = 43\\nvalue = [0, 5, 38]'),\n",
       " Text(0.45454545454545453, 0.3, 'Petal_Length <= 4.95\\nentropy = 1.0\\nsamples = 8\\nvalue = [0, 4, 4]'),\n",
       " Text(0.36363636363636365, 0.1, 'entropy = 0.0\\nsamples = 2\\nvalue = [0, 2, 0]'),\n",
       " Text(0.5454545454545454, 0.1, 'entropy = 0.918\\nsamples = 6\\nvalue = [0, 2, 4]'),\n",
       " Text(0.8181818181818182, 0.3, 'Petal_Length <= 4.85\\nentropy = 0.187\\nsamples = 35\\nvalue = [0, 1, 34]'),\n",
       " Text(0.7272727272727273, 0.1, 'entropy = 0.918\\nsamples = 3\\nvalue = [0, 1, 2]'),\n",
       " Text(0.9090909090909091, 0.1, 'entropy = 0.0\\nsamples = 32\\nvalue = [0, 0, 32]')]"
      ]
     },
     "execution_count": 45,
     "metadata": {},
     "output_type": "execute_result"
    },
    {
     "data": {
      "image/png": "[encoded data removed]",
      "text/plain": [
       "<Figure size 640x480 with 1 Axes>"
      ]
     },
     "metadata": {},
     "output_type": "display_data"
    }
   ],
   "source": [
    "from sklearn.tree import plot_tree\n",
    "plot_tree(dt_classifier, feature_names=[\"Sepal_Length\", \"Sepal_Width\", \"Petal_Length\", \"Petal_Width\"])"
   ]
  },
  {
   "cell_type": "code",
   "execution_count": 20,
   "metadata": {},
   "outputs": [],
   "source": [
    "data= {'Age':[23,25,27,29,29],\n",
    "       'Likes English':[0,1,1,0,0],\n",
    "       'Likes AI':[0,1,0,1,0],\n",
    "       'Salary':[200,400,300,500,400]}\n",
    "data= pd.DataFrame(data, columns= data.keys())"
   ]
  },
  {
   "cell_type": "code",
   "execution_count": 21,
   "metadata": {},
   "outputs": [
    {
     "data": {
      "text/html": [
       "<div>\n",
       "<style scoped>\n",
       "    .dataframe tbody tr th:only-of-type {\n",
       "        vertical-align: middle;\n",
       "    }\n",
       "\n",
       "    .dataframe tbody tr th {\n",
       "        vertical-align: top;\n",
       "    }\n",
       "\n",
       "    .dataframe thead th {\n",
       "        text-align: right;\n",
       "    }\n",
       "</style>\n",
       "<table border=\"1\" class=\"dataframe\">\n",
       "  <thead>\n",
       "    <tr style=\"text-align: right;\">\n",
       "      <th></th>\n",
       "      <th>Age</th>\n",
       "      <th>Likes English</th>\n",
       "      <th>Likes AI</th>\n",
       "      <th>Salary</th>\n",
       "    </tr>\n",
       "  </thead>\n",
       "  <tbody>\n",
       "    <tr>\n",
       "      <th>0</th>\n",
       "      <td>23</td>\n",
       "      <td>0</td>\n",
       "      <td>0</td>\n",
       "      <td>200</td>\n",
       "    </tr>\n",
       "    <tr>\n",
       "      <th>1</th>\n",
       "      <td>25</td>\n",
       "      <td>1</td>\n",
       "      <td>1</td>\n",
       "      <td>400</td>\n",
       "    </tr>\n",
       "    <tr>\n",
       "      <th>2</th>\n",
       "      <td>27</td>\n",
       "      <td>1</td>\n",
       "      <td>0</td>\n",
       "      <td>300</td>\n",
       "    </tr>\n",
       "    <tr>\n",
       "      <th>3</th>\n",
       "      <td>29</td>\n",
       "      <td>0</td>\n",
       "      <td>1</td>\n",
       "      <td>500</td>\n",
       "    </tr>\n",
       "    <tr>\n",
       "      <th>4</th>\n",
       "      <td>29</td>\n",
       "      <td>0</td>\n",
       "      <td>0</td>\n",
       "      <td>400</td>\n",
       "    </tr>\n",
       "  </tbody>\n",
       "</table>\n",
       "</div>"
      ],
      "text/plain": [
       "   Age  Likes English  Likes AI  Salary\n",
       "0   23              0         0     200\n",
       "1   25              1         1     400\n",
       "2   27              1         0     300\n",
       "3   29              0         1     500\n",
       "4   29              0         0     400"
      ]
     },
     "execution_count": 21,
     "metadata": {},
     "output_type": "execute_result"
    }
   ],
   "source": [
    "data"
   ]
  },
  {
   "cell_type": "code",
   "execution_count": 28,
   "metadata": {},
   "outputs": [
    {
     "name": "stdout",
     "output_type": "stream",
     "text": [
      "2\n"
     ]
    }
   ],
   "source": [
    "temp= data['Salary'][data['Likes AI']==1]\n",
    "print(temp.size)"
   ]
  },
  {
   "cell_type": "code",
   "execution_count": 33,
   "metadata": {},
   "outputs": [],
   "source": [
    "def SSE(data,column):\n",
    "    value_count= data[column].value_counts()\n",
    "    SSE=0\n",
    "    for key in value_count.keys():\n",
    "        temp= data['Salary'][data[column]== key]\n",
    "        mean= temp.mean()\n",
    "        n= temp.size\n",
    "        k=0\n",
    "        for val in temp:\n",
    "           k+= (val-mean)**2\n",
    "        k/= n\n",
    "        SSE+= k\n",
    "    return SSE "
   ]
  },
  {
   "cell_type": "code",
   "execution_count": 34,
   "metadata": {},
   "outputs": [
    {
     "data": {
      "text/plain": [
       "9166.666666666668"
      ]
     },
     "execution_count": 34,
     "metadata": {},
     "output_type": "execute_result"
    }
   ],
   "source": [
    "SSE(data,'Likes AI')\n",
    "#9a"
   ]
  },
  {
   "cell_type": "code",
   "execution_count": 35,
   "metadata": {},
   "outputs": [],
   "source": [
    "def SSE_for_number(column,num):\n",
    "    temp= data.copy()\n",
    "    temp[column]= temp[column] <= num\n",
    "    return SSE(temp, column)"
   ]
  },
  {
   "cell_type": "code",
   "execution_count": 36,
   "metadata": {},
   "outputs": [
    {
     "data": {
      "text/plain": [
       "5000.0"
      ]
     },
     "execution_count": 36,
     "metadata": {},
     "output_type": "execute_result"
    }
   ],
   "source": [
    "SSE_for_number('Age', 24)\n",
    "# 10c"
   ]
  },
  {
   "cell_type": "code",
   "execution_count": null,
   "metadata": {},
   "outputs": [],
   "source": []
  }
 ],
 "metadata": {
  "kernelspec": {
   "display_name": "Python 3",
   "language": "python",
   "name": "python3"
  },
  "language_info": {
   "codemirror_mode": {
    "name": "ipython",
    "version": 3
   },
   "file_extension": ".py",
   "mimetype": "text/x-python",
   "name": "python",
   "nbconvert_exporter": "python",
   "pygments_lexer": "ipython3",
   "version": "3.12.5"
  }
 },
 "nbformat": 4,
 "nbformat_minor": 2
}
